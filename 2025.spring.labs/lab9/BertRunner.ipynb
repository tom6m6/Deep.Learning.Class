{
 "cells": [
  {
   "cell_type": "markdown",
   "id": "a3f3a336",
   "metadata": {},
   "source": [
    "#该cell运行一次安装成功后无需再运行，不用在意ERROR，重启内核直接运行下一个cell\n",
    "!pip install transformers -i https://pypi.tuna.tsinghua.edu.cn/simple\n",
    "!pip install --user datasets -i https://pypi.tuna.tsinghua.edu.cn/simple"
   ]
  },
  {
   "cell_type": "code",
   "execution_count": 1,
   "id": "d13fe8fd",
   "metadata": {},
   "outputs": [],
   "source": [
    "import json\n",
    "from Model import BertModel\n",
    "from transformers import AutoTokenizer\n",
    "import torch\n",
    "from torch import nn\n",
    "import re\n",
    "from datasets import load_dataset\n",
    "import os"
   ]
  },
  {
   "cell_type": "code",
   "execution_count": 2,
   "id": "87bb11b2",
   "metadata": {},
   "outputs": [],
   "source": [
    "class MyConfig(object):\n",
    "    \"\"\"Configuration class to store the configuration of a 'Model'\n",
    "    \"\"\"\n",
    "    def __init__(self, vocab_size_or_config_json_file):\n",
    "        with open(vocab_size_or_config_json_file, \"r\") as reader:\n",
    "            json_config = json.loads(reader.read())\n",
    "        for key, value in json_config.items():\n",
    "            self.__dict__[key] = value"
   ]
  },
  {
   "cell_type": "code",
   "execution_count": 3,
   "id": "5d380869",
   "metadata": {},
   "outputs": [],
   "source": [
    "def load_file(file_path):\n",
    "    with open(file_path) as f:\n",
    "        test_set = f.readlines()\n",
    "\n",
    "    test_set = [line.strip() for line in test_set]\n",
    "    return test_set"
   ]
  },
  {
   "cell_type": "code",
   "execution_count": 4,
   "id": "caff83aa",
   "metadata": {},
   "outputs": [],
   "source": [
    "def main():\n",
    "    device = torch.device(\"cuda\" if torch.cuda.is_available() else \"cpu\")\n",
    "\n",
    "    my_config = MyConfig('./bert_config.json')\n",
    "    my_model = BertModel(my_config, device=device)\n",
    "    model_dic = torch.load('./pre-trained.bin', map_location=device)\n",
    "    my_model.load_state_dict(model_dic, strict=False)\n",
    "    my_model = my_model.to(device)\n",
    "    my_model.eval()\n",
    "\n",
    "    tokenizer = AutoTokenizer.from_pretrained(\"./tokenizer\")\n",
    "    X = load_file('./input/X_test.txt') \n",
    "    inputs = tokenizer(X, return_tensors=\"pt\", padding=True).to(device)\n",
    "    \n",
    "\n",
    "    with torch.no_grad():\n",
    "        logits = my_model(inputs['input_ids'])\n",
    "\n",
    "    predicted_class_id = logits.argmax(-1).tolist()\n",
    "    pred_txt = ['0' if x == 0 else '1' for x in predicted_class_id]\n",
    "\n",
    "    with open('output/predict.txt', 'w') as g:\n",
    "        g.write('\\n'.join(pred_txt))\n"
   ]
  },
  {
   "cell_type": "code",
   "execution_count": 5,
   "id": "42048cbf",
   "metadata": {},
   "outputs": [],
   "source": [
    "def zip_fun():\n",
    "    path=os.getcwd()\n",
    "    newpath=path+\"/output/\"\n",
    "    os.chdir(newpath)\n",
    "    os.system('zip prediction.zip predict.txt')\n",
    "    os.chdir(path)"
   ]
  },
  {
   "cell_type": "code",
   "execution_count": 6,
   "id": "4e3f1dc7",
   "metadata": {},
   "outputs": [
    {
     "name": "stderr",
     "output_type": "stream",
     "text": [
      "C:\\Users\\tommy\\AppData\\Local\\Temp\\ipykernel_6908\\138369918.py:6: FutureWarning: You are using `torch.load` with `weights_only=False` (the current default value), which uses the default pickle module implicitly. It is possible to construct malicious pickle data which will execute arbitrary code during unpickling (See https://github.com/pytorch/pytorch/blob/main/SECURITY.md#untrusted-models for more details). In a future release, the default value for `weights_only` will be flipped to `True`. This limits the functions that could be executed during unpickling. Arbitrary objects will no longer be allowed to be loaded via this mode unless they are explicitly allowlisted by the user via `torch.serialization.add_safe_globals`. We recommend you start setting `weights_only=True` for any use case where you don't have full control of the loaded file. Please open an issue on GitHub for any issues related to this experimental feature.\n",
      "  model_dic = torch.load('./pre-trained.bin', map_location=device)\n"
     ]
    }
   ],
   "source": [
    "if __name__ == '__main__':\n",
    "    main()\n",
    "    zip_fun()"
   ]
  }
 ],
 "metadata": {
  "kernelspec": {
   "display_name": "base",
   "language": "python",
   "name": "python3"
  },
  "language_info": {
   "codemirror_mode": {
    "name": "ipython",
    "version": 3
   },
   "file_extension": ".py",
   "mimetype": "text/x-python",
   "name": "python",
   "nbconvert_exporter": "python",
   "pygments_lexer": "ipython3",
   "version": "3.10.9"
  }
 },
 "nbformat": 4,
 "nbformat_minor": 5
}
