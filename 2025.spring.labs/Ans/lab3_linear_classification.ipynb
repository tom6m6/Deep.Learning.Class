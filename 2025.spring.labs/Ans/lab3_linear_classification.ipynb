{
 "cells": [
  {
   "cell_type": "code",
   "execution_count": 1,
   "metadata": {
    "vscode": {
     "languageId": "plaintext"
    }
   },
   "outputs": [],
   "source": [
    "import matplotlib.pyplot as plt\n",
    "from matplotlib import animation, rc\n",
    "from IPython.display import HTML\n",
    "import sys\n",
    "import os\n",
    "import torch\n",
    "from torch import nn\n",
    "from torch.utils.data import DataLoader\n",
    "import numpy as np"
   ]
  },
  {
   "cell_type": "code",
   "execution_count": 2,
   "metadata": {
    "vscode": {
     "languageId": "plaintext"
    }
   },
   "outputs": [
    {
     "data": {
      "text/plain": [
       "<torch._C.Generator at 0x7f4c4d618990>"
      ]
     },
     "execution_count": 2,
     "metadata": {},
     "output_type": "execute_result"
    }
   ],
   "source": [
    "np.random.seed(2022)\n",
    "torch.manual_seed(2022)"
   ]
  },
  {
   "cell_type": "code",
   "execution_count": 3,
   "metadata": {
    "vscode": {
     "languageId": "plaintext"
    }
   },
   "outputs": [],
   "source": [
    "def softmax(X):\n",
    "    '''\n",
    "    X is the input \n",
    "    Please compute its softmax outputs\n",
    "    '''\n",
    "    # ===============\n",
    "    # todo: 不调用torch的softmax，手写softmax函数，并返回\n",
    "#     X_exp = X.exp()\n",
    "#     partition = X_exp.sum(dim=1, keepdim=True)\n",
    "#     return X_exp / partition\n",
    "    \n",
    "    max_vals = torch.max(X, dim=1, keepdim=True)[0]\n",
    "    exp_X = torch.exp(X - max_vals)\n",
    "    softmax_vals = exp_X / torch.sum(exp_X, dim=1, keepdim=True)\n",
    "    return softmax_vals\n",
    "    \n",
    "    # ==============="
   ]
  },
  {
   "cell_type": "code",
   "execution_count": 23,
   "metadata": {
    "vscode": {
     "languageId": "plaintext"
    }
   },
   "outputs": [],
   "source": [
    "class SoftmaxRegression(nn.Module):\n",
    "    def __init__(self, num_inputs, num_outputs):\n",
    "        super(SoftmaxRegression, self).__init__()\n",
    "        \n",
    "        self.linear = nn.Linear(num_inputs, num_outputs, dtype=torch.float64)\n",
    "        \n",
    "        nn.init.normal_(self.linear.weight, mean=0, std=0.01)  # 初始化权重：均值为0，标准差为0.01的正态分布\n",
    "        nn.init.constant_(self.linear.bias, val=0)             # 初始化偏置：常数0\n",
    "\n",
    "        self.lr = 0.01                  # 学习率\n",
    "        self.num_classes = num_outputs  # 输出类别的数量\n",
    "\n",
    "    def forward(self, x):\n",
    "        y = self.linear(x.view(x.shape[0], -1))  # 线性变换 \n",
    "#         y = softmax(y)                           # 进行softmax操作\n",
    "        return y\n",
    "\n",
    "    def manual_backward(self, X, y, y_hat):\n",
    "        '''\n",
    "        X is the input feature;\n",
    "        y is the ground truth label;\n",
    "        y_hat is the predicted label.\n",
    "        Please update self.linear.weight and self.linear.bias\n",
    "        '''\n",
    "        with torch.no_grad():\n",
    "            # ==============\n",
    "            #  todo: 将automatic_update设为False，不调用torch的自动更新，手动完成梯度下降法优化'''\n",
    "            y_onehot = torch.nn.functional.one_hot(y.long(), self.num_classes)\n",
    "            delta_w = - torch.matmul(torch.t(X), (y_hat - y_onehot))/y.size(0)\n",
    "            self.linear.weight += self.lr * torch.t(delta_w)\n",
    "            delta_b = - torch.sum((y_hat - y_onehot), dim=0)/y.size(0)\n",
    "            self.linear.bias += self.lr * delta_b\n",
    "#             num_samples = X.size(0)\n",
    "#             batch_size = 4\n",
    "#             # 打乱数据顺序\n",
    "#             perm = torch.randperm(num_samples)\n",
    "#             X_shuffled = X[perm]\n",
    "#             y_shuffled = y[perm]\n",
    "#             y_hat_shuffled = y_hat[perm]\n",
    "#             num_batches = num_samples // batch_size\n",
    "#             for i in range(num_batches):\n",
    "#                 start_idx = i * batch_size\n",
    "#                 end_idx = (i + 1) * batch_size\n",
    "\n",
    "#                 X_batch = X_shuffled[start_idx:end_idx]\n",
    "#                 y_batch = y_shuffled[start_idx:end_idx]\n",
    "#                 y_hat_batch = y_hat_shuffled[start_idx:end_idx]\n",
    "\n",
    "#                 batch_size = y_batch.size(0)\n",
    "#                 y_one_hot = torch.zeros(batch_size, self.num_classes)\n",
    "#                 y_one_hot.scatter_(1, y_batch.unsqueeze(1).long(), 1)\n",
    "\n",
    "#                 # 计算梯度\n",
    "#                 delta_w = torch.matmul(X_batch.t(), y_hat_batch - y_one_hot) / batch_size\n",
    "#                 delta_b = torch.sum(y_hat_batch - y_one_hot, dim=0) / batch_size\n",
    "\n",
    "#                 # 更新参数\n",
    "#                 self.linear.weight -= self.lr * delta_w.t()\n",
    "#                 self.linear.bias -= self.lr * delta_b\n",
    "            \n",
    "            \n",
    "            # ===============\n",
    "            "
   ]
  },
  {
   "cell_type": "code",
   "execution_count": 24,
   "metadata": {
    "vscode": {
     "languageId": "plaintext"
    }
   },
   "outputs": [],
   "source": [
    "def evaluate_accuracy(data_iter, net):\n",
    "    acc_sum, n = 0.0, 0\n",
    "    for X, y in data_iter:\n",
    "        acc_sum += (net(X).argmax(dim=1) == y).float().sum().item()\n",
    "        n += y.shape[0]\n",
    "    return acc_sum / n"
   ]
  },
  {
   "cell_type": "code",
   "execution_count": 25,
   "metadata": {
    "vscode": {
     "languageId": "plaintext"
    }
   },
   "outputs": [],
   "source": [
    "def train_model(train_set, automatic_update=False):\n",
    "    \n",
    "    train_dataloader = DataLoader(train_set, batch_size=64, shuffle=True)  # 加载数据\n",
    "    \n",
    "    model = SoftmaxRegression(2, 3)                           # softmax回归模型\n",
    "    optimizer = torch.optim.SGD(model.parameters(), lr=0.1)   # 随机梯度下降（SGD）优化器\n",
    "    loss_func = nn.CrossEntropyLoss()                         # 交叉熵损失函数\n",
    "\n",
    "    num_epochs = 20\n",
    "    animation_fram = []\n",
    "    \n",
    "    for epoch in range(1, num_epochs + 1):\n",
    "        train_l_sum, train_acc_sum, n = 0., 0., 0\n",
    "        for Xy in train_dataloader:\n",
    "            Xy = Xy.squeeze(1)\n",
    "            X, y = Xy[:, :-1], Xy[:, -1]\n",
    "            y_hat = model(X).squeeze(1)               # 模型预测\n",
    "            loss = loss_func(y_hat, y.long()).sum()   # 计算损失\n",
    "\n",
    "            if automatic_update:  # 是否使用自动更新梯度\n",
    "                optimizer.zero_grad()\n",
    "                loss.backward()\n",
    "                optimizer.step()\n",
    "            else:\n",
    "                model.manual_backward(X, y, y_hat)   # 手动反向传播和梯度更新\n",
    "\n",
    "            train_l_sum += loss.item()                                        # 训练损失总和 \n",
    "            train_acc_sum += (y_hat.argmax(dim=1) == y).float().sum().item()  # 训练准确率总和\n",
    "            n += y.shape[0]                                                   # 样本数量\n",
    "            \n",
    "            # 模型的权重、偏置和损失值\n",
    "            animation_fram.append((model.linear.weight.detach().numpy()[0, 0], \\\n",
    "                                   model.linear.weight.detach().numpy()[0, 1], \\\n",
    "                                   model.linear.bias.detach().numpy(), loss.detach().numpy()))\n",
    "\n",
    "        print('epoch %d, loss %.4f, train acc %.3f'\n",
    "              % (epoch + 1, train_l_sum / n, train_acc_sum / n))\n",
    "        # test_acc = evaluate_accuracy(test_iter, model)\n",
    "        # print('epoch %d, loss %.4f, train acc %.3f, test acc %.3f'\n",
    "        #       % (epoch + 1, train_l_sum / n, train_acc_sum / n, test_acc))\n",
    "\n",
    "    return model"
   ]
  },
  {
   "cell_type": "code",
   "execution_count": 26,
   "metadata": {
    "vscode": {
     "languageId": "plaintext"
    }
   },
   "outputs": [],
   "source": [
    "def load_data(filename):\n",
    "    \"\"\"载入数据。\"\"\"\n",
    "    xys = []\n",
    "    with open(filename, 'r') as f:\n",
    "        for line in f:\n",
    "            xys.append(line.strip().split())\n",
    "\n",
    "    if 'train' in filename:\n",
    "        C1 = [list(map(float, x)) for x in xys if float(list(x)[2]) == 0]\n",
    "        C2 = [list(map(float, x)) for x in xys if float(list(x)[2]) == 1]\n",
    "        C3 = [list(map(float, x)) for x in xys if float(list(x)[2]) == 2]\n",
    "        return torch.tensor(C1, dtype=torch.float64), torch.tensor(C2, dtype=torch.float64), torch.tensor(C3, dtype=torch.float64)\n",
    "    else:\n",
    "        xs = [list(map(float, x)) for x in xys]\n",
    "        return torch.tensor(xs, dtype=torch.float64), None"
   ]
  },
  {
   "cell_type": "code",
   "execution_count": 27,
   "metadata": {
    "vscode": {
     "languageId": "plaintext"
    }
   },
   "outputs": [],
   "source": [
    "def zip_fun():\n",
    "    path=os.getcwd()\n",
    "    newpath=path+\"/output/\"\n",
    "    os.chdir(newpath)\n",
    "    os.system('zip predict.zip predict.npy')\n",
    "    os.chdir(path)"
   ]
  },
  {
   "cell_type": "code",
   "execution_count": 28,
   "metadata": {
    "vscode": {
     "languageId": "plaintext"
    }
   },
   "outputs": [
    {
     "name": "stdout",
     "output_type": "stream",
     "text": [
      "epoch 2, loss 0.0192, train acc 0.342\n",
      "epoch 3, loss 0.0185, train acc 0.423\n",
      "epoch 4, loss 0.0182, train acc 0.676\n",
      "epoch 5, loss 0.0175, train acc 0.712\n",
      "epoch 6, loss 0.0173, train acc 0.806\n",
      "epoch 7, loss 0.0170, train acc 0.887\n",
      "epoch 8, loss 0.0166, train acc 0.829\n",
      "epoch 9, loss 0.0165, train acc 0.887\n",
      "epoch 10, loss 0.0164, train acc 0.878\n",
      "epoch 11, loss 0.0162, train acc 0.878\n",
      "epoch 12, loss 0.0160, train acc 0.887\n",
      "epoch 13, loss 0.0160, train acc 0.878\n",
      "epoch 14, loss 0.0158, train acc 0.896\n",
      "epoch 15, loss 0.0158, train acc 0.869\n",
      "epoch 16, loss 0.0159, train acc 0.847\n",
      "epoch 17, loss 0.0158, train acc 0.905\n",
      "epoch 18, loss 0.0156, train acc 0.919\n",
      "epoch 19, loss 0.0156, train acc 0.887\n",
      "epoch 20, loss 0.0155, train acc 0.887\n",
      "epoch 21, loss 0.0156, train acc 0.887\n",
      "(100, 100)\n"
     ]
    },
    {
     "data": {
      "image/png": "[encoded data removed]",
      "text/plain": [
       "<Figure size 432x288 with 1 Axes>"
      ]
     },
     "metadata": {
      "needs_background": "light"
     },
     "output_type": "display_data"
    }
   ],
   "source": [
    "if __name__ == '__main__':\n",
    "    train_file = './input/train.txt'\n",
    "    test_file = './input/test_X.txt'\n",
    "    \n",
    "    # load data\n",
    "    C1, C2, C3 = load_data(train_file)\n",
    "    C, _ = load_data(test_file)\n",
    "\n",
    "    train_set = np.concatenate((C1, C2, C3), axis=0)\n",
    "    test_dataloader = DataLoader(C, batch_size=10000, shuffle=False)\n",
    "\n",
    "    # train model using data set and output animation frame\n",
    "    my_model = train_model(train_set)\n",
    "\n",
    "    test_set = next(iter(test_dataloader)).squeeze(1)\n",
    "    Z = my_model(test_set).detach().numpy()\n",
    "    preds = np.argmax(Z, axis=1)\n",
    "    np.save('./output/predict.npy', preds)\n",
    "\n",
    "    # generate animation\n",
    "    plt.scatter(np.array(C1[:, 0]), np.array(C1[:, 1]), c='b', marker='+')\n",
    "    plt.scatter(np.array(C2[:, 0]), np.array(C2[:, 1]), c='g', marker='o')\n",
    "    plt.scatter(np.array(C3[:, 0]), np.array(C3[:, 1]), c='r', marker='*')\n",
    "\n",
    "    x = np.arange(0., 10., 0.1)\n",
    "    y = np.arange(0., 10., 0.1)\n",
    "\n",
    "    X, Y = np.meshgrid(x, y)\n",
    "    inp = np.array(list(zip(X.reshape(-1), Y.reshape(-1))), dtype=np.float64)\n",
    "    #print(inp[:100])\n",
    "    \n",
    "    dataloader = DataLoader(inp, batch_size=10000, shuffle=False)\n",
    "    inp = next(iter(dataloader))\n",
    "    Z = my_model(inp).detach().numpy()\n",
    "    Z = np.argmax(Z, axis=1)\n",
    "    Z = Z.reshape(X.shape)\n",
    "    print(Z.shape)\n",
    "    \n",
    "    plt.contour(X, Y, Z)\n",
    "    plt.show()\n",
    " \n",
    "    zip_fun()"
   ]
  },
  {
   "cell_type": "code",
   "execution_count": null,
   "metadata": {},
   "outputs": [],
   "source": []
  }
 ],
 "metadata": {
  "kernelspec": {
   "display_name": "Python 3",
   "language": "python",
   "name": "python3"
  },
  "language_info": {
   "codemirror_mode": {
    "name": "ipython",
    "version": 3
   },
   "file_extension": ".py",
   "mimetype": "text/x-python",
   "name": "python",
   "nbconvert_exporter": "python",
   "pygments_lexer": "ipython3",
   "version": "3.9.5"
  }
 },
 "nbformat": 4,
 "nbformat_minor": 2
}
