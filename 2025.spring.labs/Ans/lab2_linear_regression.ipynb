{
 "cells": [
  {
   "cell_type": "code",
   "execution_count": 1,
   "metadata": {},
   "outputs": [],
   "source": [
    "import numpy as np\n",
    "import random\n",
    "import os"
   ]
  },
  {
   "cell_type": "code",
   "execution_count": 2,
   "metadata": {},
   "outputs": [],
   "source": [
    "def load_data(filename):\n",
    "    \"\"\"载入数据\"\"\"\n",
    "    xys = []\n",
    "    with open(filename, 'r') as f:\n",
    "        for line in f:\n",
    "            # line.strip() 去除行首尾的空白字符（包括换行符），\n",
    "            # line.split() 将字符串按空格分割成一个列表，\n",
    "            # map(float, ...) 将列表中的每个元素转换为 float 类型\n",
    "            # map() 函数是 Python 的一个内建函数，用于将指定函数应用到给定可迭代对象（如列表、元组等）中的每个元素，\n",
    "            # 并返回一个新的可迭代对象（通常是一个 map 对象）。可以将其理解为“对每个元素执行某个操作”。\n",
    "            # map(function, iterable, ...)\n",
    "            xys.append(map(float, line.strip().split()))\n",
    "\n",
    "    if 'train' in filename:\n",
    "        # 解包操作符 * 可以将一个可迭代对象的元素拆开作为多个单独的参数传递给函数。\n",
    "        # zip 将多个可迭代对象按位置进行配对。\n",
    "        xs, ys = zip(*xys)\n",
    "        return np.asarray(xs), np.asarray(ys)#  np.asarray转换为 numpy 数组\n",
    "    else:\n",
    "        xs = [list(x)[0] for x in xys]\n",
    "        return np.asarray(xs), None"
   ]
  },
  {
   "cell_type": "code",
   "execution_count": 36,
   "metadata": {},
   "outputs": [],
   "source": [
    "class LinearRegression(object):\n",
    "    def __init__(self):\n",
    "        super(LinearRegression, self).__init__()\n",
    "        '''\n",
    "        self.w --> (2, ) is the parameter of a linear regression\n",
    "        self.lr is the learning rate of training\n",
    "        self.epoch is the iteration time of training\n",
    "        '''\n",
    "        self.w = 0.05 * np.random.randn(2)\n",
    "        self.lr = 0.0001\n",
    "        self.epoch = 1000\n",
    "\n",
    "    def predict(self, x):\n",
    "        beta0 = np.expand_dims(np.ones_like(x), axis=1)\n",
    "        beta1 = np.expand_dims(x, axis=1)\n",
    "        x = np.concatenate([beta1, beta0], axis=1)\n",
    "\n",
    "        y = np.dot(x, self.w)\n",
    "        return y\n",
    "    \n",
    "    def train(self, x, y):\n",
    "        '''\n",
    "        x and y are the data for traning a linear regression\n",
    "        please simply update the value of self.w and not include any other parameters\n",
    "        '''\n",
    "\n",
    "        # ==========\n",
    "        # todo '''使用随机梯度下降法优化对self.w进行更新'''\n",
    "        beta0 = np.expand_dims(np.ones_like(x), axis=1)\n",
    "        beta1 = np.expand_dims(x, axis=1)\n",
    "        x = np.concatenate([beta1, beta0], axis=1)\n",
    "        \n",
    "        print(f\"y:{y}\")\n",
    "\n",
    "        for i in range(self.epoch):\n",
    "            ids = np.arange(len(x))\n",
    "            random.shuffle(ids)\n",
    "\n",
    "            for j in ids:\n",
    "                delta_w = []\n",
    "                xii = x[j]\n",
    "                yii = y[j]\n",
    "                delta_w = np.dot(xii, yii - np.dot(xii, self.w))\n",
    "                self.w += self.lr*delta_w #加号是负负得正得到的\n",
    "\n",
    "        # ==========\n",
    "\n",
    "#     def LSE(self, x, y):\n",
    "#         '''\n",
    "#         x and y are the data for estimate a linear regression\n",
    "#         '''\n",
    "\n",
    "#         # ==========\n",
    "#         # todo '''使用最小二乘法对self.w进行估计'''\n",
    "#         print(f\"y_train:{y_train}\")\n",
    "#         beta0 = np.expand_dims(np.ones_like(x_train), axis=1)\n",
    "#         beta1 = np.expand_dims(x_train, axis=1)\n",
    "#         beta = np.concatenate([beta1, beta0], axis=1)\n",
    "\n",
    "#         self.w = np.dot(np.linalg.pinv(beta), y)# np.linalg.pinv求广义逆\n",
    "    def LSE(self, x, y):\n",
    "        '''\n",
    "        x 和 y 是用于估计线性回归的训练数据\n",
    "        '''\n",
    "        beta0 = np.expand_dims(np.ones_like(x), axis=1)\n",
    "        beta1 = np.expand_dims(x, axis=1)\n",
    "        X = np.concatenate([beta1, beta0], axis=1)  # 设计矩阵\n",
    "\n",
    "        # 计算正规方程 (X^T X)^(-1) X^T y\n",
    "        XTX = np.dot(X.T, X)  # X^T X\n",
    "        XTY = np.dot(X.T, y)  # X^T y\n",
    "        XTX_inv = np.linalg.inv(XTX)  # (X^T X)^(-1)\n",
    "\n",
    "        self.w = np.dot(XTX_inv, XTY)  # w = (X^T X)^(-1) X^T y\n",
    "\n",
    "        # ==========\n",
    "#     def LSE(self, x, y):\n",
    "#         '''\n",
    "#         x 和 y 是用于估计线性回归的训练数据\n",
    "#         '''\n",
    "#         beta0 = np.expand_dims(np.ones_like(x), axis=1)\n",
    "#         beta1 = np.expand_dims(x, axis=1)\n",
    "#         X = np.concatenate([beta1, beta0], axis=1)  # 设计矩阵\n",
    "\n",
    "#         # 计算正规方程 (X^T X)^(-1) X^T y\n",
    "#         XXT = np.dot(X, X.T)  # X^T X\n",
    "#         XY = np.dot(X, y)  # X^T y\n",
    "#         XXT_inv = np.linalg.inv(XXT)  # (X^T X)^(-1)\n",
    "\n",
    "#         self.w = np.dot(XXT_inv, XY)  # w = (X^T X)^(-1) X^T y\n",
    "\n",
    "#         # =========="
   ]
  },
  {
   "cell_type": "code",
   "execution_count": 9,
   "metadata": {},
   "outputs": [],
   "source": [
    "def evaluate(ys, ys_pred):\n",
    "    \"\"\"评估模型。\"\"\"\n",
    "    std = np.sqrt(np.mean(np.abs(ys - ys_pred) ** 2))\n",
    "    return std"
   ]
  },
  {
   "cell_type": "code",
   "execution_count": 10,
   "metadata": {},
   "outputs": [],
   "source": [
    "def zip_fun():\n",
    "    path=os.getcwd()\n",
    "    newpath=path+\"/output/\"\n",
    "    os.chdir(newpath)\n",
    "    os.system('zip predict.zip predict.npy')\n",
    "    os.chdir(path)"
   ]
  },
  {
   "cell_type": "code",
   "execution_count": 9,
   "metadata": {},
   "outputs": [],
   "source": [
    "train_file = './input/train.txt'\n",
    "test_file = './input/test_X.txt'\n",
    "x_train, y_train = load_data(train_file)"
   ]
  },
  {
   "cell_type": "code",
   "execution_count": null,
   "metadata": {},
   "outputs": [],
   "source": []
  },
  {
   "cell_type": "code",
   "execution_count": 11,
   "metadata": {},
   "outputs": [],
   "source": [
    "x_test, _ = load_data(test_file)"
   ]
  },
  {
   "cell_type": "code",
   "execution_count": 12,
   "metadata": {},
   "outputs": [
    {
     "data": {
      "text/plain": [
       "array([ 0.1 ,  0.2 ,  0.45,  0.6 ,  0.85,  0.95,  1.15,  1.2 ,  1.3 ,\n",
       "        1.45,  1.5 ,  1.6 ,  1.65,  1.8 ,  1.9 ,  2.  ,  2.05,  2.1 ,\n",
       "        2.15,  2.2 ,  2.25,  2.95,  3.  ,  3.15,  3.25,  3.3 ,  3.35,\n",
       "        3.6 ,  3.75,  3.85,  3.9 ,  4.25,  4.3 ,  4.5 ,  4.65,  5.  ,\n",
       "        5.1 ,  5.15,  5.3 ,  5.35,  5.6 ,  5.65,  6.25,  6.3 ,  6.35,\n",
       "        6.4 ,  6.45,  6.7 ,  6.85,  7.1 ,  7.2 ,  7.25,  7.4 ,  7.5 ,\n",
       "        7.55,  7.6 ,  7.95,  8.2 ,  8.25,  8.45,  8.5 ,  8.55,  8.7 ,\n",
       "        9.  ,  9.05,  9.25,  9.35,  9.4 ,  9.45,  9.65,  9.95, 10.05,\n",
       "       10.35, 10.4 , 10.45, 10.5 , 10.65, 10.7 , 10.75, 10.85, 10.9 ,\n",
       "       11.  , 11.05, 11.1 , 11.15, 11.2 , 11.25, 11.45, 11.65, 11.8 ,\n",
       "       11.9 , 12.15, 12.3 , 12.35, 12.4 , 12.95, 13.05, 13.1 , 13.25,\n",
       "       13.4 , 13.45, 13.55, 13.65, 13.7 , 13.75, 13.95, 14.05, 14.1 ,\n",
       "       14.15, 14.3 , 14.35, 14.45, 14.55, 14.8 , 14.85, 14.95, 15.05,\n",
       "       15.5 , 16.  , 16.1 , 16.25, 16.45, 16.55, 16.6 , 16.65, 16.75,\n",
       "       16.8 , 16.95, 17.  , 17.1 , 17.15, 17.35, 17.5 , 17.75, 18.  ,\n",
       "       18.05, 18.15, 18.2 , 18.25, 18.55, 18.65, 18.7 , 18.75, 18.8 ,\n",
       "       18.95, 19.05, 19.1 , 19.15, 19.35, 19.55, 19.75, 19.8 , 19.85,\n",
       "       19.9 , 19.95, 20.  , 20.2 , 20.25, 20.3 , 20.35, 20.5 , 20.6 ,\n",
       "       20.75, 21.1 , 21.3 , 21.45, 21.5 , 21.6 , 21.65, 21.75, 21.85,\n",
       "       21.9 , 21.95, 22.  , 22.05, 22.25, 22.4 , 22.6 , 22.65, 22.75,\n",
       "       22.85, 22.9 , 22.95, 23.15, 23.2 , 23.35, 23.45, 23.5 , 23.55,\n",
       "       23.9 , 24.1 , 24.15, 24.2 , 24.25, 24.5 , 24.7 , 24.75, 24.8 ,\n",
       "       24.85, 24.9 ])"
      ]
     },
     "execution_count": 12,
     "metadata": {},
     "output_type": "execute_result"
    }
   ],
   "source": [
    "x_test"
   ]
  },
  {
   "cell_type": "code",
   "execution_count": 37,
   "metadata": {},
   "outputs": [
    {
     "name": "stdout",
     "output_type": "stream",
     "text": [
      "The std on training data via SGD is ：2.041070\n"
     ]
    }
   ],
   "source": [
    "if __name__ == '__main__':\n",
    "    solver = 'LSE'\n",
    "    train_file = './input/train.txt'\n",
    "    test_file = './input/test_X.txt'\n",
    "    # 载入数据\n",
    "    x_train, y_train = load_data(train_file)\n",
    "    x_test, _ = load_data(test_file)\n",
    "\n",
    "    # 使用线性回归训练模型，返回一个函数f()使得y = f(x)\n",
    "    f = LinearRegression()\n",
    "    print\n",
    "    if solver == 'GD':\n",
    "        f.train(x_train, y_train)\n",
    "    elif solver == 'LSE':\n",
    "        f.LSE(x_train, y_train)\n",
    "    else:\n",
    "        raise TypeError(\"Wrong solver !\")\n",
    "    y_train_pred = f.predict(x_train)\n",
    "    std = evaluate(y_train, y_train_pred)\n",
    "    print('The std on training data via SGD is ：{:f}'.format(std))\n",
    "\n",
    "    preds = f.predict(x_test)\n",
    "    np.save('./output/predict', preds)\n",
    "    zip_fun()\n"
   ]
  },
  {
   "cell_type": "code",
   "execution_count": null,
   "metadata": {},
   "outputs": [],
   "source": []
  }
 ],
 "metadata": {
  "kernelspec": {
   "display_name": "Python 3",
   "language": "python",
   "name": "python3"
  },
  "language_info": {
   "codemirror_mode": {
    "name": "ipython",
    "version": 3
   },
   "file_extension": ".py",
   "mimetype": "text/x-python",
   "name": "python",
   "nbconvert_exporter": "python",
   "pygments_lexer": "ipython3",
   "version": "3.9.5"
  }
 },
 "nbformat": 4,
 "nbformat_minor": 2
}
