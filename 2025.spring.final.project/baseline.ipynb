{
 "cells": [
  {
   "cell_type": "code",
   "execution_count": null,
   "id": "b24b84ef",
   "metadata": {},
   "outputs": [],
   "source": [
    "import os\n",
    "import zipfile\n",
    "# 解压测试集图片\n",
    "zip_path = \"./input/test_img_data.zip\"\n",
    "extract_dir = \"./test_images\"\n",
    "os.makedirs(extract_dir, exist_ok=True)\n",
    "\n",
    "with zipfile.ZipFile(zip_path, 'r') as zip_ref:\n",
    "    zip_ref.extractall(extract_dir)\n",
    "\n",
    "print(f\"已解压图片到 {extract_dir}\")"
   ]
  },
  {
   "cell_type": "markdown",
   "id": "2a3905f5",
   "metadata": {},
   "source": [
    "### Stage 1：OCR"
   ]
  },
  {
   "cell_type": "code",
   "execution_count": null,
   "id": "4295a1b4",
   "metadata": {},
   "outputs": [],
   "source": [
    "#注意：安装命令运行结束后需重启内核才会更新\n",
    "# 安装 paddlepaddle和paddleocr用于识别图片文字\n",
    "pip install paddlepaddle==2.4.2 -i https://mirrors.aliyun.com/pypi/simple\n",
    "!pip install --user paddlepaddle==2.4.2 -i https://mirrors.aliyun.com/pypi/simple\n",
    "!pip install -i https://pypi.tuna.tsinghua.edu.cn/simple paddleocr\n",
    "!pip uninstall -y numpy\n",
    "!pip install --user -i https://pypi.tuna.tsinghua.edu.cn/simple numpy==1.26.4"
   ]
  },
  {
   "cell_type": "code",
   "execution_count": null,
   "id": "e84d1ae6",
   "metadata": {},
   "outputs": [],
   "source": [
    "import os\n",
    "import json\n",
    "import torch\n",
    "from paddleocr import PaddleOCR\n",
    "\n",
    "\n",
    "# 初始化 OCR\n",
    "ocr = PaddleOCR(use_angle_cls=True, lang='ch')\n",
    "\n",
    "# 读取原始 test_data.json\n",
    "with open('./input/test_data.json', 'r', encoding='utf-8') as f:\n",
    "    original_data = json.load(f)\n",
    "\n",
    "# 遍历图片执行 OCR\n",
    "updated_data = []\n",
    "\n",
    "for item in original_data:\n",
    "    filename = item.get(\"path\", \"\") \n",
    "    image_path = os.path.join(\"./test_images\", filename)\n",
    "\n",
    "    if not os.path.exists(image_path):\n",
    "        print(f\"图片不存在: {image_path}\")\n",
    "        continue\n",
    "\n",
    "    result = ocr.ocr(image_path, cls=True)\n",
    "    text = \"\"\n",
    "\n",
    "    if result and result[0] is not None:\n",
    "#         print(result)\n",
    "        for line in result:\n",
    "            for box in line:\n",
    "                text += box[1][0] + \" \"\n",
    "    else:\n",
    "        print(f\"OCR结果为空: {image_path}\")\n",
    "\n",
    "    updated_item = {\n",
    "        \"fk_homework_id\": item[\"fk_homework_id\"],\n",
    "        \"path\": item[\"path\"],\n",
    "        \"source_text\": text.strip(),\n",
    "        \"predict_text\": \"\",\n",
    "        \"bounding_box_list\": []\n",
    "    }\n",
    "\n",
    "    updated_data.append(updated_item)\n",
    "\n",
    "# 保存新文件\n",
    "with open('test_data_with_ocr.json', 'w', encoding='utf-8') as f:\n",
    "    json.dump(updated_data, f, ensure_ascii=False, indent=2)\n",
    "\n",
    "print(\"OCR完成，处理图片数量：\", len(updated_data))"
   ]
  },
  {
   "cell_type": "markdown",
   "id": "e2c0a981",
   "metadata": {},
   "source": [
    "### Stage 2：Grammatical Error Correction(GEC)"
   ]
  },
  {
   "cell_type": "code",
   "execution_count": null,
   "id": "6d3a5478",
   "metadata": {},
   "outputs": [],
   "source": [
    "#注意：安装命令运行结束后需重启内核才会更新\n",
    "# 为避免依赖冲突，卸载 OCR 相关依赖\n",
    "!pip uninstall -y paddleocr paddlepaddle\n",
    "\n",
    "# 安装 pycorrector 和 transformers（纠错模型所需）\n",
    "!pip install --user -U -i https://pypi.tuna.tsinghua.edu.cn/simple pycorrector\n",
    "!pip install --user transformers==4.28.1 -i https://pypi.tuna.tsinghua.edu.cn/simple\n",
    "!pip install --user kenlm -i https://pypi.tuna.tsinghua.edu.cn/simple"
   ]
  },
  {
   "cell_type": "code",
   "execution_count": null,
   "id": "80872621",
   "metadata": {},
   "outputs": [],
   "source": [
    "import json\n",
    "from pycorrector import Corrector\n",
    "\n",
    "# 载入pycorrector 模型\n",
    "model = Corrector(language_model_path='./models/people2014corpus_chars.klm')\n",
    "\n",
    "# 加载 OCR 后的数据\n",
    "with open(\"test_data_with_ocr.json\", \"r\", encoding=\"utf-8\") as f:\n",
    "    data = json.load(f)\n",
    "\n",
    "# 推理\n",
    "results = []\n",
    "for i, item in enumerate(data):\n",
    "    src = item[\"source_text\"]\n",
    "    corrected_res = model.correct(src)\n",
    "    corrected_text = corrected_res['target']\n",
    "\n",
    "    new_item = dict(item)\n",
    "    new_item[\"predict_text\"] = corrected_text\n",
    "\n",
    "    results.append(new_item)\n",
    "\n",
    "    if i % 10 == 0:\n",
    "        print(f\"\\n第 {i+1} 条样本纠错结果：\")\n",
    "        print(\"原文：\", src[:100])\n",
    "        print(\"纠错：\", corrected_text[:100])\n",
    "\n",
    "\n",
    "# 保存最终预测结果\n",
    "with open(\"./output/predict.json\", \"w\", encoding=\"utf-8\") as f:\n",
    "    json.dump(results, f, ensure_ascii=False, indent=2)\n",
    "\n",
    "print(\"纠错完成，结果已保存为 ./output/predict.json\")"
   ]
  },
  {
   "cell_type": "code",
   "execution_count": null,
   "id": "68a83e12",
   "metadata": {},
   "outputs": [],
   "source": [
    "# 将预测结果压缩后再提交\n",
    "import os\n",
    "path=os.getcwd()\n",
    "newpath=path+\"/output/\"\n",
    "os.chdir(newpath)\n",
    "os.system('zip prediction.zip predict.json')\n",
    "os.chdir(path)"
   ]
  }
 ],
 "metadata": {
  "kernelspec": {
   "display_name": "base",
   "language": "python",
   "name": "python3"
  },
  "language_info": {
   "codemirror_mode": {
    "name": "ipython",
    "version": 3
   },
   "file_extension": ".py",
   "mimetype": "text/x-python",
   "name": "python",
   "nbconvert_exporter": "python",
   "pygments_lexer": "ipython3",
   "version": "3.10.9"
  }
 },
 "nbformat": 4,
 "nbformat_minor": 5
}
